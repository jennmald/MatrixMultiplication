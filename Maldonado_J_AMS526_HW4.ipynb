{
 "cells": [
  {
   "cell_type": "markdown",
   "metadata": {},
   "source": [
    "# Simple QR with Shifts\n",
    "### Jennefer Maldonado\n",
    "Date Due: 10/26/2020\n",
    "\n",
    "This jupyter notebook will implement a simple version of QR iteration with shifts for computing the eigenvalues of a general real matrix, $A$. Three steps will repeat until convergence."
   ]
  },
  {
   "cell_type": "code",
   "execution_count": 2,
   "metadata": {},
   "outputs": [],
   "source": [
    "#imports\n",
    "import numpy as np\n",
    "from scipy import linalg\n",
    "import matplotlib.pyplot as plt"
   ]
  },
  {
   "cell_type": "code",
   "execution_count": 22,
   "metadata": {},
   "outputs": [
    {
     "name": "stdout",
     "output_type": "stream",
     "text": [
      "[1, -0.4227103095370137, -0.6658924607559208]\n",
      "[array([-0.8866768 , -0.04925982,  0.45975834]), array([-0.19882693, -0.09220334,  0.97568765]), array([-0.07990296,  0.09576646,  0.99219167])]\n",
      "\n",
      "[1, -1.2327260153347106, 1.0643825581741637]\n",
      "[array([ 0.        , -0.4472136 ,  0.89442719]), array([-0.00214716, -0.12858284,  0.99169645]), array([-9.32404361e-05, -1.57819996e-02,  9.99875452e-01])]\n",
      "(array([7.28799214+0.j, 2.13307448+0.j, 0.57893339+0.j]), array([[ 0.86643225,  0.49742503, -0.0431682 ],\n",
      "       [ 0.45305757, -0.8195891 , -0.35073145],\n",
      "       [ 0.20984279, -0.28432735,  0.9354806 ]]))\n"
     ]
    }
   ],
   "source": [
    "def QRwShifts(A):\n",
    "    eigenvals = [] #store eigenvalues\n",
    "    eigenvecs = [] #store eigenvectors\n",
    "    c,k = A.shape #size of A\n",
    "    Ak_1 = A\n",
    "    mu = Ak_1[c-1][c-1] #compute the first mu\n",
    "    for n in range(0,k): #loop through the rest\n",
    "        #compute QR\n",
    "        (Q,R) = linalg.qr(Ak_1 - (mu * np.identity(k)))\n",
    "        #find A\n",
    "        Ak_1 = np.matmul(R,Q) - (mu * np.identity(k))\n",
    "        #store eigenvals and eigenvectors\n",
    "        eigenvals.append(mu)\n",
    "        eigenvecs.append(Q[:, -1]) \n",
    "        #compute new mu\n",
    "        mu = np.matmul(np.matmul(np.transpose(Q[:,-1]), Ak_1), Q[:,-1])\n",
    "    return eigenvals,eigenvecs\n",
    "\n",
    "#test of given matrices\n",
    "A = np.array([[2,3,2],[10,3,4], [3,6,1]])\n",
    "e_val,e_vec = QRwShifts(A)\n",
    "print(e_val)\n",
    "print(e_vec)\n",
    "#print(linalg.eig(A))\n",
    "print( )\n",
    "B = np.array([[6,2,1],[2,3,1], [1,1,1]])\n",
    "e_valb,e_vecb = QRwShifts(B)\n",
    "print(e_valb)\n",
    "print(e_vecb)\n",
    "#print(linalg.eig(B))"
   ]
  },
  {
   "cell_type": "markdown",
   "metadata": {},
   "source": [
    "### Analysis\n",
    "The QR Algorithm with shifts accelerates convergence. $\\mu^{(k)}$ is choosen as the Rayleigh Quotient for the last column of $Q^{(k)}$. This might fail when the off diagonal entries of the matrix $A$ are close to zero which means the deflation has to be used. The better and more accurate $\\mu$ is to the actual eigenvalues, the better the convergence for the last column of $Q^{(k)}$ to the eigenvectors. The Wilkinson Shift is better solution to this problem because it converges everywhere but is more expensive. Either way the QR algorithm is backwards stable which is important for practical use."
   ]
  },
  {
   "cell_type": "code",
   "execution_count": null,
   "metadata": {},
   "outputs": [],
   "source": []
  }
 ],
 "metadata": {
  "kernelspec": {
   "display_name": "Python 3",
   "language": "python",
   "name": "python3"
  },
  "language_info": {
   "codemirror_mode": {
    "name": "ipython",
    "version": 3
   },
   "file_extension": ".py",
   "mimetype": "text/x-python",
   "name": "python",
   "nbconvert_exporter": "python",
   "pygments_lexer": "ipython3",
   "version": "3.8.5"
  }
 },
 "nbformat": 4,
 "nbformat_minor": 4
}
