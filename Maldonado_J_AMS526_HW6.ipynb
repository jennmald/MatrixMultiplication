{
 "cells": [
  {
   "cell_type": "code",
   "execution_count": 53,
   "metadata": {},
   "outputs": [
    {
     "name": "stderr",
     "output_type": "stream",
     "text": [
      "<ipython-input-53-5e9dd7d83798>:43: RuntimeWarning: invalid value encountered in true_divide\n",
      "  alpha = np.divide(num,denom)\n",
      "<ipython-input-53-5e9dd7d83798>:43: RuntimeWarning: divide by zero encountered in true_divide\n",
      "  alpha = np.divide(num,denom)\n",
      "<ipython-input-53-5e9dd7d83798>:47: RuntimeWarning: invalid value encountered in matmul\n",
      "  r = r - np.matmul(alpha*A,p)\n",
      "<ipython-input-53-5e9dd7d83798>:52: RuntimeWarning: invalid value encountered in true_divide\n",
      "  beta = np.divide(np.matmul(rkt,z),num)\n",
      "<ipython-input-53-5e9dd7d83798>:16: RuntimeWarning: divide by zero encountered in true_divide\n",
      "  alpha = np.divide(num, denom)\n",
      "<ipython-input-53-5e9dd7d83798>:20: RuntimeWarning: invalid value encountered in matmul\n",
      "  r = r - np.matmul(alpha*A, p)\n"
     ]
    }
   ],
   "source": [
    "# import statements\n",
    "import numpy as np\n",
    "# Conjugate Gradient Method\n",
    "def CG(A, b, n):\n",
    "    x = 0\n",
    "    r = b\n",
    "    p = r\n",
    "    for k in range(1,n):\n",
    "        # tranpose vectors\n",
    "        rt = np.transpose(r)\n",
    "        pt = np.transpose(p)\n",
    "        #numerator and denominator for ease\n",
    "        num = np.matmul(rt,r)\n",
    "        denom = np.matmul(np.matmul(pt,A), p)\n",
    "        # step length\n",
    "        alpha = np.divide(num, denom)\n",
    "        # approximate solution\n",
    "        x = x + (alpha* p)\n",
    "        # residual\n",
    "        r = r - np.matmul(alpha*A, p)\n",
    "        # new r values for ease\n",
    "        rkt = np.transpose(r)\n",
    "        new_num = np.matmul(rkt,r)\n",
    "        # improvement\n",
    "        beta = np.divide(new_num,num)\n",
    "        # search direction\n",
    "        p = r + beta*p\n",
    "        \n",
    "# Preconditioned Conjugate Gradient Method\n",
    "def PCG(A, M, b, n):\n",
    "    x = 0\n",
    "    r = b\n",
    "    p = np.matmul(np.linalg.inv(M),r)\n",
    "    z = p\n",
    "    for k in range(1, n):\n",
    "        # transpose for ease\n",
    "        rt = np.transpose(r)\n",
    "        pt = np.transpose(p)\n",
    "        # numerator and denominator for ease\n",
    "        num = np.matmul(rt,z)\n",
    "        denom = np.matmul(np.matmul(pt,A),p)\n",
    "        # step length\n",
    "        alpha = np.divide(num,denom)\n",
    "        # approx solutions\n",
    "        x = x + alpha*p\n",
    "        # residual\n",
    "        r = r - np.matmul(alpha*A,p)\n",
    "        # preconditioning\n",
    "        z = np.matmul(np.linalg.inv(M),r)\n",
    "        # improvement this step\n",
    "        rkt = np.transpose(r)\n",
    "        beta = np.divide(np.matmul(rkt,z),num)\n",
    "        # search direction\n",
    "        p = z + beta*p\n",
    "        \n",
    "# testing\n",
    "ns = [8,16,32]\n",
    "for n in ns:\n",
    "    for i in range(2, n+1):\n",
    "        j = i\n",
    "        x = np.random.rand(i,j)\n",
    "        b = np.random.rand(n,1)\n",
    "        h = 1/(n+1)\n",
    "        A = np.random.rand(n,n)\n",
    "        M = A\n",
    "        CG(A, b ,n)\n",
    "        PCG( A, M, b, n)\n",
    "        "
   ]
  },
  {
   "cell_type": "code",
   "execution_count": null,
   "metadata": {},
   "outputs": [],
   "source": []
  }
 ],
 "metadata": {
  "kernelspec": {
   "display_name": "Python 3",
   "language": "python",
   "name": "python3"
  },
  "language_info": {
   "codemirror_mode": {
    "name": "ipython",
    "version": 3
   },
   "file_extension": ".py",
   "mimetype": "text/x-python",
   "name": "python",
   "nbconvert_exporter": "python",
   "pygments_lexer": "ipython3",
   "version": "3.8.5"
  }
 },
 "nbformat": 4,
 "nbformat_minor": 4
}
