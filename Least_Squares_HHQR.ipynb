{
 "cells": [
  {
   "cell_type": "markdown",
   "metadata": {},
   "source": [
    "# Least Squares\n",
    "### Author: Jennefer Maldonado\n",
    "Due Date: October 12 2020\n",
    "\n",
    "This Jupyter-Notebook will implement the Householder QR factorization, the implicit calculation of the product $\\hat{Q}^{T}b$, and back subsitution. \n",
    "\n",
    "Using these functions I will solve the least squares problems arising from polynomial fitting. This will be compared with the traditional Gram-Schmidt procedure to solve the same problem."
   ]
  },
  {
   "cell_type": "code",
   "execution_count": 13,
   "metadata": {},
   "outputs": [
    {
     "data": {
      "image/png": "[encoded data removed]",
      "text/plain": [
       "<Figure size 432x288 with 1 Axes>"
      ]
     },
     "metadata": {
      "needs_background": "light"
     },
     "output_type": "display_data"
    },
    {
     "data": {
      "image/png": "[encoded data removed]",
      "text/plain": [
       "<Figure size 432x288 with 1 Axes>"
      ]
     },
     "metadata": {
      "needs_background": "light"
     },
     "output_type": "display_data"
    }
   ],
   "source": [
    "import numpy as np\n",
    "import matplotlib.pyplot as plt\n",
    "\n",
    "# Computes the sign of x\n",
    "# Params: x\n",
    "# Returns: 1 or -1 depending on value of x\n",
    "def signx(x):\n",
    "    s = 0\n",
    "    if x >=0:\n",
    "        s= 1\n",
    "    else:\n",
    "        s = -1\n",
    "    return s\n",
    "\n",
    "# Computes the QR factorization using the\n",
    "# Householder algorithm\n",
    "# Params: A\n",
    "# Returns: R\n",
    "def HouseHolder(A):\n",
    "    R = np.copy(A)\n",
    "    (m,n) = np.shape(A)\n",
    "    #maybe change to zero\n",
    "    for k in range(0, n):\n",
    "        x = A[k:m,k]\n",
    "        x[1] = x[1] + signx(x[1])*np.linalg.norm(x,2)\n",
    "        v_k = np.divide(x,np.linalg.norm(x,2))\n",
    "        R[k:2*n,k:n] = R[k:2*n,k:n]-2*np.matmul(np.transpose(v_k),R[k:2*n,k:n])\n",
    "        #R[k:2*n,k:n] = R[k:2*n,k:n]-2*np.matmul(v_k,(np.matmul(np.transpose(v_k),R[k:2*n,k:n])))\n",
    "    return R\n",
    "\n",
    "# Computes Qtb=Qn...Q1b \n",
    "def calc_product():\n",
    "    for k in range(1, n):\n",
    "        b_k=b_k-2*v_k*(np.transpose(v_k) * b_k)\n",
    "\n",
    "# Backward Solve\n",
    "def backf_solve():\n",
    "    for j in range(1,n):\n",
    "        b_j = b_j/G[j][j]\n",
    "        for i in range(j+1, n):\n",
    "            b_i = b_i-G[i][j]*b_j\n",
    "\n",
    "# Computes the QR Factorization\n",
    "# Params: A \n",
    "# Returns: Q\n",
    "def ModifiedGramSchmidt(A):\n",
    "    Q = np.zeros(A.shape, dtype=A.dtype)\n",
    "    (m,n) = np.shape(A)\n",
    "    for j in range(1,n):\n",
    "        v_j = A[j]\n",
    "        for i in range(1,n):\n",
    "            rii = np.linalg.norm(v_j,2)\n",
    "            Q[i]=v_j/rii\n",
    "            for j in range(i+1,n):\n",
    "                rij = np.transpose(Q[i])*v_j\n",
    "                v_j = v_j - rij*Q[i]\n",
    "    return Q\n",
    "                \n",
    "def polynomial_fit(m,n):\n",
    "    y = np.zeros(m)\n",
    "    for i in range(1,m):\n",
    "        ti = (i-1)/(m-1)\n",
    "        y[i] = ti**i\n",
    "    return y\n",
    "\n",
    "#for plotting\n",
    "house_error = []\n",
    "gram_error = []\n",
    "x_axis = []\n",
    "for n in range(3,15):\n",
    "    x_axis.append(n)\n",
    "    m = 2*n\n",
    "    A = np.random.rand(m,n)\n",
    "    A1 = polynomial_fit(m,n)\n",
    "    R = HouseHolder(A)\n",
    "    R_2 = np.linalg.norm(R,2)\n",
    "    Q = ModifiedGramSchmidt(A)\n",
    "    Q_2 = np.linalg.norm(Q,2)\n",
    "    q, r = np.linalg.qr(A)\n",
    "    r_2 = np.linalg.norm(r,2)\n",
    "    q_2 = np.linalg.norm(q,2)\n",
    "    gram_error.append(np.abs(R_2-r_2))\n",
    "    house_error.append(np.abs(Q_2-q_2))\n",
    "\n",
    "plt.plot(x_axis,gram_error,c = 'g')\n",
    "plt.title(\"Modified Gram-Schmidt Error\")\n",
    "plt.show()\n",
    "plt.plot(x_axis,house_error)\n",
    "plt.title(\"HouseHolder QR Error\")\n",
    "plt.show()"
   ]
  },
  {
   "cell_type": "markdown",
   "metadata": {},
   "source": [
    "### Analysis\n",
    "Modified Gram-Schmidt requires approximately $2mn^2$ flops and is just slightly less senstive to perturbation in comparison to the Classical Gram-Schmidt. The operation count for HouseHolder is around $2mn^2-\\frac{2}{3}n^3$, but if m = n or is close to n it is more efficient than Gram-Schmidt. Thus, both algorithms have reasons to use them over the other. Depending on the size of the matrices it may be beneficial to choose HouseHolder over Modified Gram-Schmidt. Modified Gram-Schmidt also requires less steps to solve this problem as opposed to HouseHolder which requires the implicit computation of Q and the use of backwards substituiton."
   ]
  },
  {
   "cell_type": "code",
   "execution_count": null,
   "metadata": {},
   "outputs": [],
   "source": []
  }
 ],
 "metadata": {
  "kernelspec": {
   "display_name": "Python 3",
   "language": "python",
   "name": "python3"
  },
  "language_info": {
   "codemirror_mode": {
    "name": "ipython",
    "version": 3
   },
   "file_extension": ".py",
   "mimetype": "text/x-python",
   "name": "python",
   "nbconvert_exporter": "python",
   "pygments_lexer": "ipython3",
   "version": "3.8.5"
  }
 },
 "nbformat": 4,
 "nbformat_minor": 4
}
